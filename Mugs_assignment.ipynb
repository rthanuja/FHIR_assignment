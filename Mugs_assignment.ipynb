{
 "cells": [
  {
   "cell_type": "code",
   "execution_count": 1,
   "id": "1b224cca",
   "metadata": {},
   "outputs": [],
   "source": [
    "import json\n",
    "import csv\n",
    "from datetime import datetime\n",
    "\n",
    "# Step 1: Read and Understand JSON Data\n",
    "\n",
    "# Function to read and parse JSONL files\n",
    "def read_jsonl(file_path):\n",
    "    with open(file_path, 'r') as file:\n",
    "        for line in file:\n",
    "            yield json.loads(line)\n",
    "\n",
    "# Step 2: Creating Array of Conditions for Each Patient\n",
    "\n",
    "patient_conditions = {}\n",
    "for condition in read_jsonl(r\"F:\\mugs_assignment\\mimic-iv-clinical-database-demo-on-fhir-2.0\\mimic-fhir\\Condition.ndjson\"):\n",
    "    patient_id = condition['subject']['reference'].split('/')[-1]\n",
    "    if patient_id not in patient_conditions:\n",
    "        patient_conditions[patient_id] = []\n",
    "    patient_conditions[patient_id].append(condition)\n",
    "\n",
    "# Step 3: Assigning Estimated Time for Conditions\n",
    "\n",
    "encounter_start_times = {}\n",
    "for encounter in read_jsonl(r\"F:\\mugs_assignment\\mimic-iv-clinical-database-demo-on-fhir-2.0\\mimic-fhir\\Encounter.ndjson\"):\n",
    "    encounter_id = encounter['id']\n",
    "    start_time = datetime.strptime(encounter['period']['start'], '%Y-%m-%dT%H:%M:%S%z')\n",
    "    encounter_start_times[encounter_id] = start_time\n",
    "\n",
    "for encounter in read_jsonl(r\"F:\\mugs_assignment\\mimic-iv-clinical-database-demo-on-fhir-2.0\\mimic-fhir\\EncounterICU.ndjson\"):\n",
    "    encounter_id = encounter['id']\n",
    "    start_time = datetime.strptime(encounter['period']['start'], '%Y-%m-%dT%H:%M:%S%z')\n",
    "    encounter_start_times[encounter_id] = start_time\n",
    "\n",
    "# Step 4: Creating CSV File\n",
    "with open('output_file.csv', 'w', newline='') as csvfile:\n",
    "    fieldnames = ['pid', 'time', 'code', 'description']\n",
    "    writer = csv.DictWriter(csvfile, fieldnames=fieldnames)\n",
    "    writer.writeheader()\n",
    "    \n",
    "    for patient_id, conditions in patient_conditions.items():\n",
    "        for condition in conditions:\n",
    "            encounter_id = condition['encounter']['reference'].split('/')[-1]\n",
    "            if encounter_id in encounter_start_times:\n",
    "                start_time = encounter_start_times[encounter_id]\n",
    "                condition_code = condition['code']['coding'][0]['code']\n",
    "                condition_description = condition['code']['coding'][0]['display']\n",
    "                writer.writerow({'pid': patient_id, 'time': start_time.timestamp(), 'code': condition_code, 'description': condition_description})\n"
   ]
  },
  {
   "cell_type": "code",
   "execution_count": null,
   "id": "c323c396",
   "metadata": {},
   "outputs": [],
   "source": []
  }
 ],
 "metadata": {
  "kernelspec": {
   "display_name": "Python 3 (ipykernel)",
   "language": "python",
   "name": "python3"
  },
  "language_info": {
   "codemirror_mode": {
    "name": "ipython",
    "version": 3
   },
   "file_extension": ".py",
   "mimetype": "text/x-python",
   "name": "python",
   "nbconvert_exporter": "python",
   "pygments_lexer": "ipython3",
   "version": "3.10.9"
  }
 },
 "nbformat": 4,
 "nbformat_minor": 5
}
